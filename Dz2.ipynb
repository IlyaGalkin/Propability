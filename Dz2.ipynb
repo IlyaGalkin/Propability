{
 "cells": [
  {
   "cell_type": "markdown",
   "metadata": {},
   "source": [
    "# Домашня робота №2"
   ]
  },
  {
   "cell_type": "markdown",
   "metadata": {},
   "source": [
    "## 1 Пароль\n",
    "Напишіть програму (функцію) для генерування випадкового пароля з такими обмеженнями:\n",
    "- пароль складається з рівно $10$ символів\n",
    "- пароль містить хоча б одну маленьку латинську літеру [a-z]\n",
    "- пароль містить хоча б одну велику латинську літеру [A-Z]\n",
    "- пароль містить хоча б одну цифру [0-9]\n",
    "- пароль містить хоча б один спеціальний символ [~!@#$%^&*()-_+=\\/{}[].,?<>:;]"
   ]
  },
  {
   "cell_type": "code",
   "execution_count": 1,
   "metadata": {
    "collapsed": true
   },
   "outputs": [],
   "source": [
    "import random\n",
    "\n",
    "\n",
    "def n(1):\n",
    "    def get_elem():\n",
    "        ls = [chr(random.randint(65, 90)), chr(random.randint(97, 122)), random.choice(num), random.choice(spec)]\n",
    "        return random.choice(ls)\n",
    "    key = ''\n",
    "    num = '1234567890'\n",
    "    spec = '~!@#$%^&*()-_+=\\/{}[].,?<>:;'\n",
    "    a1 = chr(random.randint(65, 90))\n",
    "    a2 = chr(random.randint(97, 122))\n",
    "    a3 = random.choice(num)\n",
    "    a4 = random.choice(spec)\n",
    "    key = key+a1+a2+a3+a4\n",
    "    for i in range(6):\n",
    "        key+ = get_elem()\n",
    "    print(key)\n",
    "    # можно перемешать key, но смысла нет, пароль есть\n",
    "n1()\n",
    "\n"
   ]
  },
  {
   "cell_type": "markdown",
   "metadata": {},
   "source": [
    "## 2 Герби в ряд\n",
    "Реалізуйте функцію для обчислення емпіричної та теоретичної імовірностей випадіння $k$ гербів (HEADS) підряд у серії з $n$ підкидань чесної монетки. Підрахуйте відповідні ймовірності для таких параметрів:\n",
    "- $k = 2, n = 10, 50, 100, 500, 1000, 5000, 10000$\n",
    "- $k = 3, n = 10, 50, 100, 500, 1000, 5000, 10000$\n",
    "\n",
    "**Зауваження.** Нехай $k = 2, n = 10$ та маємо таку послідовність результатів підкидання монети: $\\{ H, T, H, H, H, H, T, T, H, T \\}$. Тоді матимемо $3$ випадки випадіння двох гербів підряд та емпіричну ймовірність такої події $1/3$."
   ]
  },
  {
   "cell_type": "code",
   "execution_count": 19,
   "metadata": {},
   "outputs": [
    {
     "name": "stdout",
     "output_type": "stream",
     "text": [
      "['T', 'H', 'T', 'H', 'T', 'T', 'H', 'H', 'H', 'T']\n",
      "['T', 'Н']\n",
      "['Н', 'T']\n",
      "['T', 'H']\n",
      "['H', 'Т']\n",
      "['Т', 'Т']\n",
      "['Т', 'H']\n",
      "['H', 'H']\n",
      "['H', 'Н']\n",
      "['Н', 'Т']\n",
      "5/9\n"
     ]
    }
   ],
   "source": [
    "import random\n",
    "\n",
    "def n2(n, k):\n",
    "    res = [random.choice(['H', 'T']) for j in range(n)]\n",
    "    print(res_list)\n",
    "    succ = 0e\n",
    "    for i in range(n - k + 1):\n",
    "        exp = res[i:i+k]\n",
    "        print(exp)\n",
    "        if 'T' not in exp:\n",
    "            s += 1\n",
    "    eNum = n - k + 1\n"
    "    print(\"{}/{}\".format(succ, eNum))\n",
    "\n",
    "\n",
    "n2(10,2)\n",
    "\n"
   ]
  },
  {
   "cell_type": "markdown",
   "metadata": {},
   "source": [
    "## 3 Найбільше число\n",
    "Реалізуйте функцію підрахунку точної (теоретичної) імовірності того, що максимальне число після $n$ кидків звичайного грального кубика дорівнює $x\\_max$, для таких параметрів:\n",
    "- $n = 3, x\\_max = 6$\n",
    "- $n = 2, x\\_max = 3$\n",
    "- $n = 3, x\\_max = 5$\n",
    "\n",
    "Тобто, якщо $X_i, i = 1, \\ldots, n$, - число на $i$-му кидку кубика, а $X = \\max\\limits_{1 \\leq i \\leq n} X_i$, то потрібно знайти ймовірність $\\textbf{P} \\left( X = x\\_max \\right)$.\n",
    "\n",
    "Підрахуйте також емпіричні ймовірності відповідних подій у випадку $10000$ симуляцій.\n",
    "\n",
    "**Зауваження.** Якщо введені параметри не мають сенсу, то повертати $0$.\n",
    "Тобто, якщо вводиться $x\\_max < 1$ або $x\\_max > 6$."
   ]
  },
  {
   "cell_type": "code",
   "execution_count": 9,
   "metadata": {},
   "outputs": [],
   "source": [
    "import random\n",
    "def n3(n, k, sim_num=10):\n",
    "    succ = 0\n",
    "    for i in range(sim_num):\n",
    "        res_list = [random.randint(1, 6) for _ in range(n)]\n",
    "        if sum(res_list) <= k:\n",
    "            succ += 1\n",
    "            print(res_list)\n",
    "    print(\"{}/{}\".format(succ, sim_num))\n",
    "\n",
    "n3(3, 10)\n"
   ]
  },
 ],
 "metadata": {
  "kernelspec": {
   "display_name": "Python 2",
   "language": "python",
   "name": "python2"
  },
  "language_info": {
   "codemirror_mode": {
    "name": "ipython",
    "version": 2
   },
   "file_extension": ".py",
   "mimetype": "text/x-python",
   "name": "python",
   "nbconvert_exporter": "python",
   "pygments_lexer": "ipython2",
   "version": "2.7.15"
  }
 },
 "nbformat": 4,
 "nbformat_minor": 1
}
