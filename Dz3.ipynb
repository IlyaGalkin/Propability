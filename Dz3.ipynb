{
 "cells": [
  {
   "cell_type": "markdown",
   "metadata": {},
   "source": [
    "# Домашня робота №3\n",
    "Будемо використовувати *Збірник задач з теорії ймовірностей та математичної статистики: навч. посібник / В.В. Голомозий, М.В. Карташов, К.В. Ральченко. – К.: Видавничо-поліграфічний центр «Київський університет», 2015. – 366 с.*\n",
    "Електронну версію збірника можна знайти [тут](http://probability.univ.kiev.ua/userfiles/kmv/gkr-problems.pdf)."
   ]
  },
  {
   "cell_type": "markdown",
   "metadata": {},
   "source": [
    "## 1 Задача 1.3.12\n",
    "Знайти ймовiрнiсть того, що серед трьох цифр, кожна з яких вибрана навмання, буде лише 1, 2, 3 рiзних.\n",
    "\n",
    "Обчисліть теоретичну (повним перебором) та еміричну (симулюванням $100000$ експериментів) імовірності."
   ]
  },
  {
   "cell_type": "code",
   "execution_count": 2,
   "metadata": {
    "collapsed": true
   },
   "outputs": [
    {
     "name": "stdout",
     "output_type": "stream",
     "text": [
      "0.72\n"
     ]
    },
    {
     "name": "stdout",
     "output_type": "stream",
     "text": [
      "0.66234\n"
     ]
    }
   ],
   "source": [
    "import random\n",
    "\n",
    "\n",
    "def theor(n):\n",
    "    if n == 3:\n",
    "        return (10*9*8)/(10**3)\n",
    "    elif n == 2:\n",
    "        return (10*9*2)/(10**3)\n",
    "    elif n == 1:\n",
    "        return (10*1*1)/(10**3)\n",
    "\n",
    "\n",
    "def pract(n, k):\n",
    "    s = 0\n",
    "    nums = [i+1 for i in range(9)]\n",
    "    for i in range(k):\n",
    "        b = [random.choice(nums) for j in range(3)]\n",
    "        if len(list(set(b))) == n:\n",
    "            s += 1\n",
    "    return succ/k\n",
    "\n",
    "\n",
    "print(theor(3))\n",
    "print(pract(3, 100000))"
   ]
  },
  {
   "cell_type": "markdown",
   "metadata": {},
   "source": [
    "# 2 Задача 1.3.14\n",
    "З послiдовностi чисел $1, 2, . . . , n$ вибирають навмання $k$ рiзних чисел.\n",
    "Яка ймовiрнiсть того, що:\n",
    "1. кожне з вибраних чисел кратне даному числу $p$;\n",
    "2. кожне з вибраних чисел кратне хоча б одному з двох взаємно простих чисел $p$ i $q$;\n",
    "3. серед вибраних чисел є хоча б одне кратне $p$?\n",
    "\n",
    "Напишіть  відповідні функції для обрахунку теоретичної (повним перебором) та еміричної (симулюванням $100000$ експериментів) імовірностей в залежності від параметрів $n, k, p, q$.\n",
    "Виведіть результат для\n",
    "- $n = 25, k = 5, p = 3, q = 4$;\n",
    "- $n = 25, k = 10, p = 3, q = 4$."
   ]
  },
  {
   "cell_type": "code",
   "execution_count": 5,
   "metadata": {
    "collapsed": true
   },
   "outputs": [
    {
     "name": "stdout",
     "output_type": "stream",
     "text": [
      "[0.0033, 0.02536, 0.85335]\n"
      "[2e-05, 0.00053, 0.97892]\n"
      "[0.0033554432000000006, 0.025480396799999996, 'Формулу считает очень долго=)']\n"
      "[0, 0.00064925062108545, 'Формулу считает очень долго=)']\n"
     ]
    }
   ],
   "source": [
    "import random\n",
    "import math\n",
    "\n",
    "\n",
    "def pract(n, k, p, q, exp):\n",
    "    nums = [i+1 for i in range(n)]\n",
    "    s = [0, 0, 0]\n",
    "    for i in range(exp):\n",
    "        b = random.choices(nums, k=k) # не работает\n",
    "        status = [1, 1, 0]\n",
    "        for j in b:\n",
    "            if j % p != 0:\n",
    "                status[0] = 0\n",
    "            if j % p != 0 and j % q != 0:\n",
    "                status[1] = 0\n",
    "            if j % p == 0:\n",
    "                status[2] = 1\n",
    "        # print(status)\n",
    "        succ[0] += status[0]\n",
    "        succ[1] += status[1]\n",
    "        succ[2] += status[2]\n",
    "    succ[0] /= exp\n",
    "    succ[1] /= exp\n",
    "    succ[2] /= exp\n",
    "    return(succ)\n",
    "\n",
    "\n",
    "def theor(n, k, p, q):\n",
    "    nums = [i + 1 for i in range(n)]\n",
    "    stats = [0, 0, 0]\n",
    "    status = [1, 1, 1]\n",
    "    for i in nums:\n",
    "        if i % p == 0:\n",
    "            stats[0] += 1\n",
    "            stats[2] += 1\n",
    "        if i % p == 0 or i % q == 0:\n",
    "            stats[1] += 1\n",
    "    for j in range(k):\n",
    "        if stats[0]<k: status[0] = 0\n"
    "        else: status[0] = ((stats[0]/n)**k)\n",
    "        if stats[1]<k: status[1] = 0\n"
    "        else:  status[1] = ((stats[1]/n)**k)\n",
    "        status[2] = 'Формулу считает очень долго=)' \n"
    "    return(status)\n",
    "\n",
    "\n",
    "print(pract(25, 5, 3, 4, 100000))\n"
    "print(pract(25, 10, 3, 4, 100000))\n"
    "print(theor(25, 5, 3, 4))\n"
    "print(theor(25, 10, 3, 4))\n"
   ]
  },
  {
   "cell_type": "markdown",
   "metadata": {},
   "source": [
    "# 3 Задача 1.4.6\n",
    "В коморi знаходяться $n$ пар черевикiв.\n",
    "З них випадковим чином вибираються $2k$ черевикiв.\n",
    "Яка ймовiрнiсть того, що серед вибраних черевикiв:\n",
    "1. вiдсутнi парнi;\n",
    "2. є рiвно одна комплектна пара;\n",
    "3. є двi комплектнi пари?\n",
    "\n",
    "Напишіть  відповідні функції для обрахунку теоретичної (повним перебором) та еміричної (симулюванням $100000$ експериментів) імовірностей в залежності від параметрів $n, k$.\n",
    "Виведіть результат для\n",
    "- $n = 8, k = 4$;\n",
    "- $n = 13, k = 5$."
   ]
  },
  {
   "cell_type": "code",
   "execution_count": 30,
   "metadata": {
    "collapsed": true
   },
   "outputs": [
    {
     "name": "stdout",
     "output_type": "stream",
     "text": [
      "n = 8, k = 4\n",
      " - отсутствует парная обувь: 0.01989;  0.02060\n",
      " - одна пара: 0.27848;  0.28025\n",
      " - 2 пары: 0.52214;  0.51807\n",
      "\n",
      "n = 13, k = 5\n",
      " - отсутствует парная обувь: 0.05514;  0.05498\n",
      " - одна пара: 0.31014;  0.31067\n",
      " - 2 пары: 0.43419;  0.43467\n",
      "\n"
      ]
    }
   ],
   "source": [
    "import numpy as np\n"
    "def task3(n, k):\n",
    "    def check(lst):\n",
    "        a, b, c = 0, 0, 0\n",
    "        L = len(lst)\n",
    "        for el in lst:\n",
    "            l = len(el)\n",
    "            l1 = len(set(el))\n",
    "            if l == l1:\n",
    "                a += 1\n",
    "            elif l - l1 == 1:\n",
    "                b += 1\n",
    "            elif l - l1 == 2:\n",
    "                c += 1\n",
    "        return a / L, b / L, c / L\n",
    "    \n",
    "    boots = [x for x in range(1, n+1)] * 2\n",
    "    # Theoretical\n",
    "    comb = list(itertools.combinations(boots, r=2*k))\n",
    "    ev1, ev2, ev3 = check(comb)\n",
    "\n",
    "    # Emp\n",
    "    N = 100000\n",
    "    rand = [np.random.choice(boots, size=2*k, replace=False) for _ in range(N)]\n",
    "    ev4, ev5, ev6 = check(rand)\n",
    "\n",
    "    print('n = {}, k = {}'.format(n, k))\n",
    "    print(': - отсутствует парная обувь: {:.5f};  {:.5f}\\n'\n",
    "          ' - ровно одна пара: {:.5f};  {:.5f}\\n'\n",
    "          ' - 2 пары: {:.5f};  {:.5f}\\n'.format(ev1, ev4, ev2, ev5, ev3, ev6))\n",
    "\n",
    "task3(8, 4)\n",
    "task3(13, 5)\n"
   ]
  },
  {
   "cell_type": "markdown",
   "metadata": {},
   "source": [
    "# 4 Задача 1.2.15\n",
    "Нехай $\\Omega = {1, 2, \\ldots, 2n}$.\n",
    "Всiм числам приписанi ймовiрностi, пропорцiйнi логарифмам цих чисел.\n",
    "Знайти цi ймовiрностi.\n",
    "Знайти ймовiрнiсть того, що в результатi експерименту з’явиться:\n",
    "1. парне число;\n",
    "2. непарне число.\n",
    "\n",
    "Напишіть функцію для обрахунку еміричної (симулюванням $100000$ експериментів) імовірності в залежності від параметра $n$.\n",
    "Виведіть результат для\n",
    "- $n = 10$;\n",
    "- $n = 25$."
   ]
  },
  {
   "cell_type": "code",
   "execution_count": 4,
   "metadata": {
    "collapsed": true
   },
   "outputs": [],
   "source": [
    "from math import factorial\n",
    "\n",
    "\n",
    "def task4(n):\n",
    "    def count_sum(lst):\n",
    "        s1, s2 = 0, 0\n",
    "        for i in range(0, len(lst), 2):\n",
    "            s2 += lst[i]\n",
    "            s1 += lst[i+1]\n",
    "        return s1, s2\n",
    "\n",
    "    # при n = 25 занадто велике число для обрахунку логарифма\n",
    "    f = factorial(2 * n)\n",
    "    k = np.log(f)\n",
    "    prob = [np.log(x) / k for x in range(1, 2 * n + 1)]\n",
    "\n",
    "    # theoretical probability\n",
    "    event1, event2 = count_sum(prob)\n",
    "    print('n =', n)\n",
    "    print('Theoretical probability\\n - even number: {}\\n - odd number: {}'.format(event1, event2))\n",
    "\n",
    "    # empirical\n",
    "    N = 100000\n",
    "    numbers = np.random.choice(list(range(1, 2 * n + 1)), size=N, replace=True, p=prob)\n",
    "    event1 = len(list(filter(lambda x: x % 2 == 0, numbers))) / N\n",
    "    print('Empirical probability\\n - even number: {}\\n - odd number: {}'.format(event1, 1 - event1))\n",
    "\n",
    "\n",
    "task4(10)"
   ]
  }
 ],
 "metadata": {
  "kernelspec": {
   "display_name": "Python 3",
   "language": "python",
   "name": "python3"
  },
  "language_info": {
   "codemirror_mode": {
    "name": "ipython",
    "version": 3
   },
   "file_extension": ".py",
   "mimetype": "text/x-python",
   "name": "python",
   "nbconvert_exporter": "python",
   "pygments_lexer": "ipython3",
   "version": "3.6.1"
  }
 },
 "nbformat": 4,
 "nbformat_minor": 0
}
